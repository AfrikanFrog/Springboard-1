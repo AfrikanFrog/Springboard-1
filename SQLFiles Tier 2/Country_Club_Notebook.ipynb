{
 "cells": [
  {
   "cell_type": "code",
   "execution_count": 1,
   "id": "cc873542",
   "metadata": {},
   "outputs": [],
   "source": [
    "from sqlalchemy import create_engine\n",
    "import pandas as pd\n",
    "\n",
    "engine = create_engine(\"sqlite:///sqlite_db_pythonsqlite.db\")"
   ]
  },
  {
   "cell_type": "markdown",
   "id": "fe283347",
   "metadata": {},
   "source": [
    "### Q 10:\n",
    "Produce a list of facilities with a total revenue less than 1000.\n",
    "The output of facility name and total revenue, sorted by revenue. Remember\n",
    "that there's a different cost for guests and members!"
   ]
  },
  {
   "cell_type": "code",
   "execution_count": 2,
   "id": "2afa5bdf",
   "metadata": {},
   "outputs": [
    {
     "name": "stdout",
     "output_type": "stream",
     "text": [
      "            name  total_revenue\n",
      "0     Pool Table            270\n",
      "1  Snooker Table            240\n",
      "2   Table Tennis            180\n"
     ]
    }
   ],
   "source": [
    "df10 = pd.read_sql_query(\"SELECT name, SUM(cost) AS total_revenue\\\n",
    "                          FROM (SELECT f.name, \\\n",
    "                                       CASE WHEN b.memid = 0 THEN b.slots * f.guestcost \\\n",
    "                                            ELSE b.slots * f.membercost END AS cost \\\n",
    "                                FROM Bookings AS b \\\n",
    "                                     INNER JOIN Facilities AS f \\\n",
    "                                                USING (facid) \\\n",
    "                                     INNER JOIN Members as m \\\n",
    "                                                USING (memid)) AS costs \\\n",
    "                          GROUP BY name \\\n",
    "                          HAVING SUM(cost) < 1000\", engine)\n",
    "print(df10)"
   ]
  },
  {
   "cell_type": "markdown",
   "id": "ce355670",
   "metadata": {},
   "source": [
    "### Q 11:\n",
    "Produce a report of members and who recommended them in alphabetic surname,firstname order \n"
   ]
  },
  {
   "cell_type": "code",
   "execution_count": 3,
   "id": "66fd3b1d",
   "metadata": {},
   "outputs": [
    {
     "name": "stdout",
     "output_type": "stream",
     "text": [
      "                    members           recommended_by\n",
      "0            Florence Bader         Ramnaresh Sarwin\n",
      "1                Anne Baker                     None\n",
      "2             Timothy Baker              Joan Coplin\n",
      "3                Tim Boothe                     None\n",
      "4            Gerald Butters          Matthew Genting\n",
      "5               Joan Coplin                     None\n",
      "6             Erica Crumpet                     None\n",
      "7                Nancy Dare                     None\n",
      "8            Jemima Farrell            Timothy Baker\n",
      "9            Jemima Farrell             David Pinker\n",
      "10            David Farrell                     None\n",
      "11              GUEST GUEST                     None\n",
      "12          Matthew Genting         Henrietta Rumney\n",
      "13                John Hunt                     None\n",
      "14              David Jones            Douglas Jones\n",
      "15            Douglas Jones                     None\n",
      "16          Janice Joplette               Nancy Dare\n",
      "17          Janice Joplette              David Jones\n",
      "18           Anna Mackenzie                     None\n",
      "19             Charles Owen                     None\n",
      "20             David Pinker                     None\n",
      "21        Millicent Purview                John Hunt\n",
      "22               Tim Rownam               Tim Boothe\n",
      "23         Henrietta Rumney                     None\n",
      "24         Ramnaresh Sarwin                     None\n",
      "25             Darren Smith          Janice Joplette\n",
      "26             Darren Smith           Gerald Butters\n",
      "27             Darren Smith             Charles Owen\n",
      "28             Darren Smith               Jack Smith\n",
      "29             Darren Smith           Anna Mackenzie\n",
      "30              Tracy Smith  Henry Worthington-Smyth\n",
      "31              Tracy Smith        Millicent Purview\n",
      "32              Tracy Smith            Erica Crumpet\n",
      "33               Jack Smith                     None\n",
      "34             Darren Smith                     None\n",
      "35          Ponder Stibbons               Anne Baker\n",
      "36          Ponder Stibbons           Florence Bader\n",
      "37             Burton Tracy          Ponder Stibbons\n",
      "38      Hyacinth Tupperware                     None\n",
      "39  Henry Worthington-Smyth                     None\n"
     ]
    }
   ],
   "source": [
    "df11 = pd.read_sql_query(\"SELECT r.members, r.recommended_by \\\n",
    "                          FROM (SELECT (m1.firstname || ' ' || m1.surname) AS members, \\\n",
    "                                       (m2.firstname || ' ' || m2.surname) AS recommended_by, \\\n",
    "                                       m1.surname \\\n",
    "                                FROM members AS m1 \\\n",
    "                                     LEFT JOIN members AS m2 \\\n",
    "                                     ON m1.memid = m2.recommendedby) AS r \\\n",
    "                          ORDER BY r.surname\", engine)\n",
    "\n",
    "print(df11)"
   ]
  },
  {
   "cell_type": "markdown",
   "id": "94a73a9e",
   "metadata": {},
   "source": [
    "### Q 12:\n",
    "Find the facilities with their usage by member, but not guests"
   ]
  },
  {
   "cell_type": "code",
   "execution_count": 4,
   "id": "882cdc19",
   "metadata": {},
   "outputs": [
    {
     "name": "stdout",
     "output_type": "stream",
     "text": [
      "              name  facility_usage\n",
      "0  Badminton Court             344\n",
      "1   Massage Room 1             421\n",
      "2   Massage Room 2              27\n",
      "3       Pool Table             783\n",
      "4    Snooker Table             421\n",
      "5     Squash Court             195\n",
      "6     Table Tennis             385\n",
      "7   Tennis Court 1             308\n",
      "8   Tennis Court 2             276\n"
     ]
    }
   ],
   "source": [
    "df12 = pd.read_sql_query(\"SELECT f.name, COUNT(*) AS facility_usage \\\n",
    "                          FROM Bookings AS b \\\n",
    "                               INNER JOIN Facilities AS f \\\n",
    "                                          USING (facid) \\\n",
    "                               INNER JOIN Members AS m \\\n",
    "                                          USING (memid) \\\n",
    "                          WHERE m.memid <> 0 \\\n",
    "                          GROUP BY f.name\", engine)\n",
    "print(df12)"
   ]
  },
  {
   "cell_type": "markdown",
   "id": "fb8c4f96",
   "metadata": {},
   "source": [
    "### Q 13:\n",
    "Find the facilities usage by month, but not guests"
   ]
  },
  {
   "cell_type": "code",
   "execution_count": 5,
   "id": "2040627d",
   "metadata": {},
   "outputs": [
    {
     "name": "stdout",
     "output_type": "stream",
     "text": [
      "   month             name  monthly_facility_usage\n",
      "0     07  Badminton Court                      51\n",
      "1     07   Massage Room 1                      77\n",
      "2     07   Massage Room 2                       4\n",
      "3     07       Pool Table                     103\n",
      "4     07    Snooker Table                      68\n",
      "5     07     Squash Court                      23\n",
      "6     07     Table Tennis                      48\n",
      "7     07   Tennis Court 1                      65\n",
      "8     07   Tennis Court 2                      41\n",
      "9     08  Badminton Court                     132\n",
      "10    08   Massage Room 1                     153\n",
      "11    08   Massage Room 2                       9\n",
      "12    08       Pool Table                     272\n",
      "13    08    Snooker Table                     154\n",
      "14    08     Squash Court                      85\n",
      "15    08     Table Tennis                     143\n",
      "16    08   Tennis Court 1                     111\n",
      "17    08   Tennis Court 2                     109\n",
      "18    09  Badminton Court                     161\n",
      "19    09   Massage Room 1                     191\n",
      "20    09   Massage Room 2                      14\n",
      "21    09       Pool Table                     408\n",
      "22    09    Snooker Table                     199\n",
      "23    09     Squash Court                      87\n",
      "24    09     Table Tennis                     194\n",
      "25    09   Tennis Court 1                     132\n",
      "26    09   Tennis Court 2                     126\n"
     ]
    }
   ],
   "source": [
    "df13 = pd.read_sql_query(\"SELECT STRFTIME('%m', b.starttime) AS month, f.name, COUNT(*) AS monthly_facility_usage \\\n",
    "                          FROM Bookings AS b \\\n",
    "                               INNER JOIN Facilities AS f \\\n",
    "                                          USING (facid) \\\n",
    "                               INNER JOIN Members AS m \\\n",
    "                                          USING (memid) \\\n",
    "                          WHERE m.memid <> 0 \\\n",
    "                          GROUP BY f.name, STRFTIME('%m', b.starttime) \\\n",
    "                          ORDER BY month, f.name\", engine)\n",
    "print(df13)"
   ]
  },
  {
   "cell_type": "code",
   "execution_count": null,
   "id": "4867cea5",
   "metadata": {},
   "outputs": [],
   "source": []
  }
 ],
 "metadata": {
  "kernelspec": {
   "display_name": "Python 3 (ipykernel)",
   "language": "python",
   "name": "python3"
  },
  "language_info": {
   "codemirror_mode": {
    "name": "ipython",
    "version": 3
   },
   "file_extension": ".py",
   "mimetype": "text/x-python",
   "name": "python",
   "nbconvert_exporter": "python",
   "pygments_lexer": "ipython3",
   "version": "3.8.11"
  }
 },
 "nbformat": 4,
 "nbformat_minor": 5
}
