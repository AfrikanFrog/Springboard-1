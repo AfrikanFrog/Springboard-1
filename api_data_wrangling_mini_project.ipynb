{
 "cells": [
  {
   "cell_type": "markdown",
   "metadata": {},
   "source": [
    "This exercise will require you to pull some data from https://data.nasdaq.com/ (formerly Quandl API)."
   ]
  },
  {
   "cell_type": "markdown",
   "metadata": {},
   "source": [
    "As a first step, you will need to register a free account on the https://data.nasdaq.com/ website."
   ]
  },
  {
   "cell_type": "markdown",
   "metadata": {},
   "source": [
    "After you register, you will be provided with a unique API key, that you should store:\n",
    "\n",
    "*Note*: Use a `.env` file and put your key in there and `python-dotenv` to access it in this notebook. \n",
    "\n",
    "The code below uses a key that was used when generating this project but has since been deleted. Never submit your keys to source control. There is a `.env-example` file in this repository to illusrtate what you need. Copy that to a file called `.env` and use your own api key in that `.env` file. Make sure you also have a `.gitignore` file with a line for `.env` added to it. \n",
    "\n",
    "The standard Python gitignore is [here](https://github.com/github/gitignore/blob/master/Python.gitignore) you can just copy that. "
   ]
  },
  {
   "cell_type": "code",
   "execution_count": 1,
   "metadata": {},
   "outputs": [],
   "source": [
    "# get api key from your .env file\n",
    "import os\n",
    "from dotenv import load_dotenv\n",
    "\n",
    "load_dotenv(os.getcwd()+'/.env')\n",
    "API_KEY = os.getenv('NASDAQ_API_KEY')\n",
    "\n",
    "# print(API_KEY)"
   ]
  },
  {
   "cell_type": "markdown",
   "metadata": {},
   "source": [
    "Nasdaq Data has a large number of data sources, but, unfortunately, most of them require a Premium subscription. Still, there are also a good number of free datasets."
   ]
  },
  {
   "cell_type": "markdown",
   "metadata": {},
   "source": [
    "For this mini project, we will focus on equities data from the Frankfurt Stock Exhange (FSE), which is available for free. We'll try and analyze the stock prices of a company called Carl Zeiss Meditec, which manufactures tools for eye examinations, as well as medical lasers for laser eye surgery: https://www.zeiss.com/meditec/int/home.html. The company is listed under the stock ticker AFX_X."
   ]
  },
  {
   "cell_type": "markdown",
   "metadata": {},
   "source": [
    "You can find the detailed Nasdaq Data API instructions here: https://docs.data.nasdaq.com/docs/in-depth-usage"
   ]
  },
  {
   "cell_type": "markdown",
   "metadata": {},
   "source": [
    "While there is a dedicated Python package for connecting to the Nasdaq API, we would prefer that you use the *requests* package, which can be easily downloaded using *pip* or *conda*. You can find the documentation for the package here: http://docs.python-requests.org/en/master/ "
   ]
  },
  {
   "cell_type": "markdown",
   "metadata": {},
   "source": [
    "Finally, apart from the *requests* package, you are encouraged to not use any third party Python packages, such as *pandas*, and instead focus on what's available in the Python Standard Library (the *collections* module might come in handy: https://pymotw.com/3/collections/).\n",
    "Also, since you won't have access to DataFrames, you are encouraged to us Python's native data structures - preferably dictionaries, though some questions can also be answered using lists.\n",
    "You can read more on these data structures here: https://docs.python.org/3/tutorial/datastructures.html"
   ]
  },
  {
   "cell_type": "markdown",
   "metadata": {},
   "source": [
    "Keep in mind that the JSON responses you will be getting from the API map almost one-to-one to Python's dictionaries. Unfortunately, they can be very nested, so make sure you read up on indexing dictionaries in the documentation provided above."
   ]
  },
  {
   "cell_type": "code",
   "execution_count": 2,
   "metadata": {},
   "outputs": [],
   "source": [
    "# First, import the relevant modules\n",
    "import requests\n",
    "import collections\n",
    "import json"
   ]
  },
  {
   "cell_type": "markdown",
   "metadata": {},
   "source": [
    "Note: API's can change a bit with each version, for this exercise it is reccomended to use the nasdaq api at `https://data.nasdaq.com/api/v3/`. This is the same api as what used to be quandl so `https://www.quandl.com/api/v3/` should work too.\n",
    "\n",
    "Hint: We are looking for the `AFX_X` data on the `datasets/FSE/` dataset."
   ]
  },
  {
   "cell_type": "code",
   "execution_count": 3,
   "metadata": {},
   "outputs": [],
   "source": [
    "# Now, call the Nasdaq API and pull out a small sample of the data (only one day) to get a glimpse\n",
    "# into the JSON structure that will be returned\n",
    "dataset = \"FSE/\"\n",
    "ticker = \"AFX_X/\"\n",
    "data_type = \"data.json\"\n",
    "# Set limit to 1 to only get the most recent row.\n",
    "limit = \"limit=1\"\n",
    "\n",
    "r = requests.get(\"https://data.nasdaq.com/api/v3/datasets/\"+dataset+ticker+data_type+\"?\"+limit+\"&\"+API_KEY)"
   ]
  },
  {
   "cell_type": "code",
   "execution_count": 4,
   "metadata": {
    "scrolled": true
   },
   "outputs": [
    {
     "name": "stdout",
     "output_type": "stream",
     "text": [
      "{'limit': 1, 'transform': None, 'column_index': None, 'column_names': ['Date', 'Open', 'High', 'Low', 'Close', 'Change', 'Traded Volume', 'Turnover', 'Last Price of the Day', 'Daily Traded Units', 'Daily Turnover'], 'start_date': '2000-06-07', 'end_date': '2020-12-01', 'frequency': 'daily', 'data': [['2020-12-01', 112.2, 112.2, 111.5, 112.0, None, 51.0, 5703.0, None, None, None]], 'collapse': None, 'order': None}\n"
     ]
    }
   ],
   "source": [
    "# Inspect the JSON structure of the object you created, and take note of how nested it is,\n",
    "# as well as the overall structure\n",
    "json_file = r.json()\n",
    "print(json_file[\"dataset_data\"])"
   ]
  },
  {
   "cell_type": "markdown",
   "metadata": {},
   "source": [
    "These are your tasks for this mini project:\n",
    "\n",
    "1. Collect data from the Franfurt Stock Exchange, for the ticker AFX_X, for the whole year 2017 (keep in mind that the date format is YYYY-MM-DD).\n",
    "2. Convert the returned JSON object into a Python dictionary.\n",
    "3. Calculate what the highest and lowest opening prices were for the stock in this period.\n",
    "4. What was the largest change in any one day (based on High and Low price)?\n",
    "5. What was the largest change between any two days (based on Closing Price)?\n",
    "6. What was the average daily trading volume during this year?\n",
    "7. (Optional) What was the median trading volume during this year. (Note: you may need to implement your own function for calculating the median.)"
   ]
  },
  {
   "cell_type": "code",
   "execution_count": 5,
   "metadata": {},
   "outputs": [],
   "source": [
    "# Q1: Collect data from the Franfurt Stock Exchange, for the ticker AFX_X, for the whole year 2017.\n",
    "start = \"start_date=2017-01-01\"\n",
    "end = \"end_date=2017-12-31\"\n",
    "r = requests.get(\"https://data.nasdaq.com/api/v3/datasets/\"+dataset+ticker+data_type+\"?\"+start+\"&\"+end+\"&\"+API_KEY)"
   ]
  },
  {
   "cell_type": "code",
   "execution_count": 6,
   "metadata": {},
   "outputs": [
    {
     "name": "stdout",
     "output_type": "stream",
     "text": [
      "<class 'dict'>\n"
     ]
    }
   ],
   "source": [
    "# Q2: Convert the returned JSON object into a Python dictionary.\n",
    "data = r.json()['dataset_data']\n",
    "print(type(data))"
   ]
  },
  {
   "cell_type": "code",
   "execution_count": 7,
   "metadata": {},
   "outputs": [
    {
     "name": "stdout",
     "output_type": "stream",
     "text": [
      "Highest Opening Price: 53.11 on 2017-12-14\n",
      "Lowest Opening Price: 34.0 on 2017-01-24\n"
     ]
    }
   ],
   "source": [
    "# Q3: Calculate what the highest and lowest opening prices were for the stock in this period.\n",
    "date = [i[data['column_names'].index('Date')] for i in data['data']]\n",
    "o = [i[data['column_names'].index('Open')] for i in data['data']]\n",
    "o_clean = [i for i in o if i != None]\n",
    "\n",
    "print(f\"\\\n",
    "Highest Opening Price: {max(o_clean)} on {date[o.index(max(o_clean))]}\\n\\\n",
    "Lowest Opening Price: {min(o_clean)} on {date[o.index(min(o_clean))]}\")"
   ]
  },
  {
   "cell_type": "code",
   "execution_count": 8,
   "metadata": {},
   "outputs": [
    {
     "name": "stdout",
     "output_type": "stream",
     "text": [
      "Highest change: 2.810 on 2017-05-11\n"
     ]
    }
   ],
   "source": [
    "# Q4: What was the largest change in any one day (based on High and Low price)?\n",
    "high = [i[data['column_names'].index('High')] for i in data['data']]\n",
    "low = [i[data['column_names'].index('Low')] for i in data['data']]\n",
    "change_1 = [h - l for h, l in zip(high, low)]\n",
    "\n",
    "print(f\"Highest change: {max(change_1):.3f} on {date[change_1.index(max(change_1))]}\")"
   ]
  },
  {
   "cell_type": "code",
   "execution_count": 9,
   "metadata": {},
   "outputs": [
    {
     "name": "stdout",
     "output_type": "stream",
     "text": [
      "Highest change: 2.560 on 2017-08-08\n"
     ]
    }
   ],
   "source": [
    "# Q5: What was the largest change between any two days (based on Closing Price)?\n",
    "close = [i[data['column_names'].index('Close')] for i in data['data']]\n",
    "change_2 = [0]\n",
    "for i in range(len(close)):\n",
    "    if i+1 == len(close):\n",
    "        break\n",
    "    else: \n",
    "        change_2.append(close[i+1]-close[i])\n",
    "\n",
    "print(f\"Highest change: {max(change_2):.3f} on {date[change_2.index(max(change_2))]}\")"
   ]
  },
  {
   "cell_type": "code",
   "execution_count": 10,
   "metadata": {},
   "outputs": [
    {
     "name": "stdout",
     "output_type": "stream",
     "text": [
      "Average Daily Trade Volume: 89124.337\n"
     ]
    }
   ],
   "source": [
    "# Q6: What was the average daily trading volume during this year?\n",
    "trade_vol = [i[data['column_names'].index('Traded Volume')] for i in data['data']]\n",
    "\n",
    "print(f\"Average Daily Trade Volume: {sum(trade_vol)/len(trade_vol):.3f}\")"
   ]
  },
  {
   "cell_type": "code",
   "execution_count": 11,
   "metadata": {},
   "outputs": [
    {
     "name": "stdout",
     "output_type": "stream",
     "text": [
      "Median Trade Volume: 76286.0\n"
     ]
    }
   ],
   "source": [
    "# Q7: What was the median trading volume during this year?\n",
    "def median(l):\n",
    "    \"\"\"Returns the median of a list\"\"\"\n",
    "    sorted_l = sorted(l)\n",
    "    if len(sorted_l) % 2 == 1:\n",
    "        med = sorted_l[int(len(sorted_l)//2)]\n",
    "    else: \n",
    "        med = (sorted_l[len(sorted_l)/2] + sorted_1[(len(sorted_l)/2)+1]) / 2\n",
    "    return med\n",
    "        \n",
    "print(f\"Median Trade Volume: {median(trade_vol)}\")"
   ]
  }
 ],
 "metadata": {
  "interpreter": {
   "hash": "7635eb1b9d0fe97add78a7368b6b431c09bb8ad5c42e437d64abdd99821c31ae"
  },
  "kernelspec": {
   "display_name": "Python 3 (ipykernel)",
   "language": "python",
   "name": "python3"
  },
  "language_info": {
   "codemirror_mode": {
    "name": "ipython",
    "version": 3
   },
   "file_extension": ".py",
   "mimetype": "text/x-python",
   "name": "python",
   "nbconvert_exporter": "python",
   "pygments_lexer": "ipython3",
   "version": "3.8.11"
  }
 },
 "nbformat": 4,
 "nbformat_minor": 4
}
